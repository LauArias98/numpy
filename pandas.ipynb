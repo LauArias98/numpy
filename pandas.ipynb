{
  "nbformat": 4,
  "nbformat_minor": 0,
  "metadata": {
    "colab": {
      "name": "pandas.ipynb",
      "provenance": [],
      "toc_visible": true,
      "mount_file_id": "1njjex5J0H4ilAgh9aagDiLpIem8SgXpf",
      "authorship_tag": "ABX9TyPp/HWXy+t8cMQ75JSn5ujV",
      "include_colab_link": true
    },
    "kernelspec": {
      "name": "python3",
      "display_name": "Python 3"
    }
  },
  "cells": [
    {
      "cell_type": "markdown",
      "metadata": {
        "id": "view-in-github",
        "colab_type": "text"
      },
      "source": [
        "<a href=\"https://colab.research.google.com/github/LauArias98/numpy/blob/master/pandas.ipynb\" target=\"_parent\"><img src=\"https://colab.research.google.com/assets/colab-badge.svg\" alt=\"Open In Colab\"/></a>"
      ]
    },
    {
      "cell_type": "code",
      "metadata": {
        "id": "ttlN2te2-h1T",
        "colab_type": "code",
        "colab": {
          "base_uri": "https://localhost:8080/",
          "height": 350
        },
        "outputId": "ace088b9-9df3-48ee-a35c-d5e874382787"
      },
      "source": [
        "import pandas as pd\n",
        "import numpy as np\n",
        "\n",
        "# Cargar el archivo anime.csv como dataframe\n",
        "df = pd.read_csv(\"anime.csv\")\n",
        "df.head()"
      ],
      "execution_count": 63,
      "outputs": [
        {
          "output_type": "execute_result",
          "data": {
            "text/html": [
              "<div>\n",
              "<style scoped>\n",
              "    .dataframe tbody tr th:only-of-type {\n",
              "        vertical-align: middle;\n",
              "    }\n",
              "\n",
              "    .dataframe tbody tr th {\n",
              "        vertical-align: top;\n",
              "    }\n",
              "\n",
              "    .dataframe thead th {\n",
              "        text-align: right;\n",
              "    }\n",
              "</style>\n",
              "<table border=\"1\" class=\"dataframe\">\n",
              "  <thead>\n",
              "    <tr style=\"text-align: right;\">\n",
              "      <th></th>\n",
              "      <th>_id</th>\n",
              "      <th>anime_id</th>\n",
              "      <th>c1</th>\n",
              "      <th>c2</th>\n",
              "      <th>episodes</th>\n",
              "      <th>genre</th>\n",
              "      <th>img</th>\n",
              "      <th>main_cast</th>\n",
              "      <th>members</th>\n",
              "      <th>name</th>\n",
              "      <th>rating</th>\n",
              "      <th>source</th>\n",
              "      <th>studios</th>\n",
              "      <th>type</th>\n",
              "    </tr>\n",
              "  </thead>\n",
              "  <tbody>\n",
              "    <tr>\n",
              "      <th>0</th>\n",
              "      <td>589eac5f1bc3ae2c788af112</td>\n",
              "      <td>32281</td>\n",
              "      <td>40</td>\n",
              "      <td>1</td>\n",
              "      <td>1</td>\n",
              "      <td>Drama,Romance,School,Supernatural</td>\n",
              "      <td>https://myanimelist.cdn-dena.com/images/anime/...</td>\n",
              "      <td>Kamishiraishi,Mone;Kamiki,Ryunosuke</td>\n",
              "      <td>200630</td>\n",
              "      <td>Kimi no Na wa.</td>\n",
              "      <td>9.37</td>\n",
              "      <td>Original</td>\n",
              "      <td>CoMix Wave Films</td>\n",
              "      <td>Movie</td>\n",
              "    </tr>\n",
              "    <tr>\n",
              "      <th>1</th>\n",
              "      <td>589eac5f1bc3ae2c788af113</td>\n",
              "      <td>5114</td>\n",
              "      <td>16</td>\n",
              "      <td>1</td>\n",
              "      <td>64</td>\n",
              "      <td>Action,Adventure,Drama,Fantasy,Magic,Military,...</td>\n",
              "      <td>https://myanimelist.cdn-dena.com/images/anime/...</td>\n",
              "      <td>Kugimiya,Rie;Park,Romi</td>\n",
              "      <td>793665</td>\n",
              "      <td>Fullmetal Alchemist: Brotherhood</td>\n",
              "      <td>9.26</td>\n",
              "      <td>Manga</td>\n",
              "      <td>Bones</td>\n",
              "      <td>TV</td>\n",
              "    </tr>\n",
              "    <tr>\n",
              "      <th>2</th>\n",
              "      <td>589eac5f1bc3ae2c788af114</td>\n",
              "      <td>28977</td>\n",
              "      <td>26</td>\n",
              "      <td>3</td>\n",
              "      <td>51</td>\n",
              "      <td>Action,Comedy,Historical,Parody,Samurai,Sci-Fi...</td>\n",
              "      <td>https://myanimelist.cdn-dena.com/images/anime/...</td>\n",
              "      <td>Kugimiya,Rie;Ishii,Kouji;Sugita,Tomokazu;Tomat...</td>\n",
              "      <td>114262</td>\n",
              "      <td>Gintama°</td>\n",
              "      <td>9.25</td>\n",
              "      <td>Manga</td>\n",
              "      <td>Bandai Namco Pictures</td>\n",
              "      <td>TV</td>\n",
              "    </tr>\n",
              "    <tr>\n",
              "      <th>3</th>\n",
              "      <td>589eac5f1bc3ae2c788af115</td>\n",
              "      <td>9253</td>\n",
              "      <td>18</td>\n",
              "      <td>19</td>\n",
              "      <td>24</td>\n",
              "      <td>Sci-Fi,Thriller</td>\n",
              "      <td>https://myanimelist.cdn-dena.com/images/anime/...</td>\n",
              "      <td>Seki,Tomokazu;Imai,Asami;Miyano,Mamoru;Hanazaw...</td>\n",
              "      <td>673572</td>\n",
              "      <td>Steins;Gate</td>\n",
              "      <td>9.17</td>\n",
              "      <td>Visualnovel</td>\n",
              "      <td>White Fox</td>\n",
              "      <td>TV</td>\n",
              "    </tr>\n",
              "    <tr>\n",
              "      <th>4</th>\n",
              "      <td>589eac5f1bc3ae2c788af116</td>\n",
              "      <td>9969</td>\n",
              "      <td>26</td>\n",
              "      <td>1</td>\n",
              "      <td>51</td>\n",
              "      <td>Action,Comedy,Historical,Parody,Samurai,Sci-Fi...</td>\n",
              "      <td>https://myanimelist.cdn-dena.com/images/anime/...</td>\n",
              "      <td>Kugimiya,Rie;Sugita,Tomokazu;Sakaguchi,Daisuke</td>\n",
              "      <td>151266</td>\n",
              "      <td>Gintama&amp;#039;</td>\n",
              "      <td>9.16</td>\n",
              "      <td>Manga</td>\n",
              "      <td>Sunrise</td>\n",
              "      <td>TV</td>\n",
              "    </tr>\n",
              "  </tbody>\n",
              "</table>\n",
              "</div>"
            ],
            "text/plain": [
              "                        _id  anime_id  ...                studios   type\n",
              "0  589eac5f1bc3ae2c788af112     32281  ...       CoMix Wave Films  Movie\n",
              "1  589eac5f1bc3ae2c788af113      5114  ...                  Bones     TV\n",
              "2  589eac5f1bc3ae2c788af114     28977  ...  Bandai Namco Pictures     TV\n",
              "3  589eac5f1bc3ae2c788af115      9253  ...              White Fox     TV\n",
              "4  589eac5f1bc3ae2c788af116      9969  ...                Sunrise     TV\n",
              "\n",
              "[5 rows x 14 columns]"
            ]
          },
          "metadata": {
            "tags": []
          },
          "execution_count": 63
        }
      ]
    },
    {
      "cell_type": "code",
      "metadata": {
        "id": "c-tISVGUZ8f0",
        "colab_type": "code",
        "colab": {
          "base_uri": "https://localhost:8080/",
          "height": 284
        },
        "outputId": "0e0e8f8b-70b0-47f4-96bb-9f88b52241a5"
      },
      "source": [
        "# Reemplazar los valores nulos segun su tipo, los numericos por el promedio de la Columna y los strings por 'none'\n",
        "df['genre'].fillna('None')\n",
        "df['img'].fillna('None')\n",
        "df['main_cast'].fillna('None')\n",
        "df['name'].fillna('None')\n",
        "df['source'].fillna('None')\n",
        "df['studios'].fillna('None')\n",
        "df['type'].fillna('None')\n",
        "prom_c1 = df['c1'].mean()\n",
        "prom_c2 = df['c2'].mean()\n",
        "prom_episodes = df['episodes'].mean()\n",
        "prom_members = df['members'].mean()\n",
        "prom_rating = df['rating'].mean()\n",
        "df['c1'].fillna(prom_c1)\n",
        "df['c2'].fillna(prom_c2)\n",
        "df['episodes'].fillna(prom_episodes)\n",
        "df['members'].fillna(prom_members)\n",
        "df['rating'].fillna(prom_rating)\n",
        "\n",
        "df.describe()\n"
      ],
      "execution_count": 64,
      "outputs": [
        {
          "output_type": "execute_result",
          "data": {
            "text/html": [
              "<div>\n",
              "<style scoped>\n",
              "    .dataframe tbody tr th:only-of-type {\n",
              "        vertical-align: middle;\n",
              "    }\n",
              "\n",
              "    .dataframe tbody tr th {\n",
              "        vertical-align: top;\n",
              "    }\n",
              "\n",
              "    .dataframe thead th {\n",
              "        text-align: right;\n",
              "    }\n",
              "</style>\n",
              "<table border=\"1\" class=\"dataframe\">\n",
              "  <thead>\n",
              "    <tr style=\"text-align: right;\">\n",
              "      <th></th>\n",
              "      <th>anime_id</th>\n",
              "      <th>c1</th>\n",
              "      <th>c2</th>\n",
              "      <th>episodes</th>\n",
              "      <th>members</th>\n",
              "      <th>rating</th>\n",
              "    </tr>\n",
              "  </thead>\n",
              "  <tbody>\n",
              "    <tr>\n",
              "      <th>count</th>\n",
              "      <td>12211.000000</td>\n",
              "      <td>12211.000000</td>\n",
              "      <td>12211.000000</td>\n",
              "      <td>12211.000000</td>\n",
              "      <td>1.221100e+04</td>\n",
              "      <td>12211.000000</td>\n",
              "    </tr>\n",
              "    <tr>\n",
              "      <th>mean</th>\n",
              "      <td>13969.164606</td>\n",
              "      <td>20.470068</td>\n",
              "      <td>8.892474</td>\n",
              "      <td>12.075915</td>\n",
              "      <td>1.819363e+04</td>\n",
              "      <td>6.336203</td>\n",
              "    </tr>\n",
              "    <tr>\n",
              "      <th>std</th>\n",
              "      <td>11429.596278</td>\n",
              "      <td>10.953000</td>\n",
              "      <td>12.535969</td>\n",
              "      <td>46.407144</td>\n",
              "      <td>5.498655e+04</td>\n",
              "      <td>1.429432</td>\n",
              "    </tr>\n",
              "    <tr>\n",
              "      <th>min</th>\n",
              "      <td>1.000000</td>\n",
              "      <td>1.000000</td>\n",
              "      <td>1.000000</td>\n",
              "      <td>-1.000000</td>\n",
              "      <td>5.000000e+00</td>\n",
              "      <td>-1.000000</td>\n",
              "    </tr>\n",
              "    <tr>\n",
              "      <th>25%</th>\n",
              "      <td>3460.500000</td>\n",
              "      <td>13.000000</td>\n",
              "      <td>1.000000</td>\n",
              "      <td>1.000000</td>\n",
              "      <td>2.350000e+02</td>\n",
              "      <td>5.820000</td>\n",
              "    </tr>\n",
              "    <tr>\n",
              "      <th>50%</th>\n",
              "      <td>10178.000000</td>\n",
              "      <td>18.000000</td>\n",
              "      <td>1.000000</td>\n",
              "      <td>2.000000</td>\n",
              "      <td>1.583000e+03</td>\n",
              "      <td>6.550000</td>\n",
              "    </tr>\n",
              "    <tr>\n",
              "      <th>75%</th>\n",
              "      <td>24651.000000</td>\n",
              "      <td>30.000000</td>\n",
              "      <td>16.000000</td>\n",
              "      <td>12.000000</td>\n",
              "      <td>9.574000e+03</td>\n",
              "      <td>7.170000</td>\n",
              "    </tr>\n",
              "    <tr>\n",
              "      <th>max</th>\n",
              "      <td>34527.000000</td>\n",
              "      <td>41.000000</td>\n",
              "      <td>40.000000</td>\n",
              "      <td>1818.000000</td>\n",
              "      <td>1.013917e+06</td>\n",
              "      <td>10.000000</td>\n",
              "    </tr>\n",
              "  </tbody>\n",
              "</table>\n",
              "</div>"
            ],
            "text/plain": [
              "           anime_id            c1  ...       members        rating\n",
              "count  12211.000000  12211.000000  ...  1.221100e+04  12211.000000\n",
              "mean   13969.164606     20.470068  ...  1.819363e+04      6.336203\n",
              "std    11429.596278     10.953000  ...  5.498655e+04      1.429432\n",
              "min        1.000000      1.000000  ...  5.000000e+00     -1.000000\n",
              "25%     3460.500000     13.000000  ...  2.350000e+02      5.820000\n",
              "50%    10178.000000     18.000000  ...  1.583000e+03      6.550000\n",
              "75%    24651.000000     30.000000  ...  9.574000e+03      7.170000\n",
              "max    34527.000000     41.000000  ...  1.013917e+06     10.000000\n",
              "\n",
              "[8 rows x 6 columns]"
            ]
          },
          "metadata": {
            "tags": []
          },
          "execution_count": 64
        }
      ]
    },
    {
      "cell_type": "code",
      "metadata": {
        "id": "-i-yjnINS0N2",
        "colab_type": "code",
        "colab": {
          "base_uri": "https://localhost:8080/",
          "height": 34
        },
        "outputId": "24f96499-bcf0-4a0f-81c9-8f7514f47de6"
      },
      "source": [
        "# Obtener suma total de 'members'\n",
        "members = df['members'].sum()\n",
        "print(members)"
      ],
      "execution_count": 65,
      "outputs": [
        {
          "output_type": "stream",
          "text": [
            "222162380\n"
          ],
          "name": "stdout"
        }
      ]
    },
    {
      "cell_type": "code",
      "metadata": {
        "id": "eCjOXD6FTMqb",
        "colab_type": "code",
        "colab": {
          "base_uri": "https://localhost:8080/",
          "height": 151
        },
        "outputId": "7a50fcbd-1e96-4108-b13b-e0437b11fef8"
      },
      "source": [
        "# Obtener el rating promedio de cada tipo de serie \n",
        "tipos = df.groupby(['type'])\n",
        "media = tipos['rating'].mean()\n",
        "print(media)"
      ],
      "execution_count": 69,
      "outputs": [
        {
          "output_type": "stream",
          "text": [
            "type\n",
            "Movie      6.159560\n",
            "Music      5.588996\n",
            "ONA        5.572731\n",
            "OVA        6.314707\n",
            "Special    6.499096\n",
            "TV         6.662497\n",
            "Name: rating, dtype: float64\n"
          ],
          "name": "stdout"
        }
      ]
    },
    {
      "cell_type": "code",
      "metadata": {
        "id": "pelxdFCMUjJ5",
        "colab_type": "code",
        "colab": {
          "base_uri": "https://localhost:8080/",
          "height": 34
        },
        "outputId": "d06cd112-5e6d-4814-94e1-acd90cada8b3"
      },
      "source": [
        "# Obtener el maximo rating de series con genero 'Music'\n",
        "max = music['rating'].max()\n",
        "print(max)\n"
      ],
      "execution_count": 70,
      "outputs": [
        {
          "output_type": "stream",
          "text": [
            "8.38\n"
          ],
          "name": "stdout"
        }
      ]
    },
    {
      "cell_type": "code",
      "metadata": {
        "id": "hBrOOs_YdVfo",
        "colab_type": "code",
        "colab": {
          "base_uri": "https://localhost:8080/",
          "height": 160
        },
        "outputId": "05a43d94-02e8-4be0-fa32-32fdc1bf8ac7"
      },
      "source": [
        "# Obtener rating promedio de series con 'Sugita, Tomokazu' como parte del 'main_cast'\n",
        "st = df.loc[lambda st: df['main_cast'] == 'Sugita,Tomokazu', :]\n",
        "st.head()"
      ],
      "execution_count": 77,
      "outputs": [
        {
          "output_type": "execute_result",
          "data": {
            "text/html": [
              "<div>\n",
              "<style scoped>\n",
              "    .dataframe tbody tr th:only-of-type {\n",
              "        vertical-align: middle;\n",
              "    }\n",
              "\n",
              "    .dataframe tbody tr th {\n",
              "        vertical-align: top;\n",
              "    }\n",
              "\n",
              "    .dataframe thead th {\n",
              "        text-align: right;\n",
              "    }\n",
              "</style>\n",
              "<table border=\"1\" class=\"dataframe\">\n",
              "  <thead>\n",
              "    <tr style=\"text-align: right;\">\n",
              "      <th></th>\n",
              "      <th>_id</th>\n",
              "      <th>anime_id</th>\n",
              "      <th>c1</th>\n",
              "      <th>c2</th>\n",
              "      <th>episodes</th>\n",
              "      <th>genre</th>\n",
              "      <th>img</th>\n",
              "      <th>main_cast</th>\n",
              "      <th>members</th>\n",
              "      <th>name</th>\n",
              "      <th>rating</th>\n",
              "      <th>source</th>\n",
              "      <th>studios</th>\n",
              "      <th>type</th>\n",
              "    </tr>\n",
              "  </thead>\n",
              "  <tbody>\n",
              "    <tr>\n",
              "      <th>5144</th>\n",
              "      <td>589eae011bc3ae2c788b052a</td>\n",
              "      <td>32682</td>\n",
              "      <td>18</td>\n",
              "      <td>1</td>\n",
              "      <td>13</td>\n",
              "      <td>Horror,Mystery,Supernatural,Thriller</td>\n",
              "      <td>https://myanimelist.cdn-dena.com/images/anime/...</td>\n",
              "      <td>Sugita,Tomokazu</td>\n",
              "      <td>11052</td>\n",
              "      <td>Kagewani: Shou</td>\n",
              "      <td>6.54</td>\n",
              "      <td>Original</td>\n",
              "      <td>Tomovies</td>\n",
              "      <td>TV</td>\n",
              "    </tr>\n",
              "    <tr>\n",
              "      <th>7659</th>\n",
              "      <td>589eaeca1bc3ae2c788b0efd</td>\n",
              "      <td>10406</td>\n",
              "      <td>30</td>\n",
              "      <td>1</td>\n",
              "      <td>1</td>\n",
              "      <td>Comedy</td>\n",
              "      <td>https://myanimelist.cdn-dena.com/images/anime/...</td>\n",
              "      <td>Sugita,Tomokazu</td>\n",
              "      <td>1976</td>\n",
              "      <td>Spelunker Sensei</td>\n",
              "      <td>5.18</td>\n",
              "      <td>4-komamanga</td>\n",
              "      <td>Studio PuYUKAI</td>\n",
              "      <td>OVA</td>\n",
              "    </tr>\n",
              "  </tbody>\n",
              "</table>\n",
              "</div>"
            ],
            "text/plain": [
              "                           _id  anime_id  c1  ...       source         studios type\n",
              "5144  589eae011bc3ae2c788b052a     32682  18  ...     Original        Tomovies   TV\n",
              "7659  589eaeca1bc3ae2c788b0efd     10406  30  ...  4-komamanga  Studio PuYUKAI  OVA\n",
              "\n",
              "[2 rows x 14 columns]"
            ]
          },
          "metadata": {
            "tags": []
          },
          "execution_count": 77
        }
      ]
    },
    {
      "cell_type": "code",
      "metadata": {
        "id": "cEGZK28KYyG5",
        "colab_type": "code",
        "colab": {
          "base_uri": "https://localhost:8080/",
          "height": 34
        },
        "outputId": "2bdf4209-290d-47b8-8ccd-8a6f9d746963"
      },
      "source": [
        "rating_promedio = st['rating'].mean()\n",
        "print(rating_promedio)"
      ],
      "execution_count": 78,
      "outputs": [
        {
          "output_type": "stream",
          "text": [
            "5.859999999999999\n"
          ],
          "name": "stdout"
        }
      ]
    }
  ]
}