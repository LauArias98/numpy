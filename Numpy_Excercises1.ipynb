{
  "nbformat": 4,
  "nbformat_minor": 0,
  "metadata": {
    "colab": {
      "name": "Numpy_Excercises_Session_1 (1).ipynb",
      "provenance": [],
      "collapsed_sections": [],
      "toc_visible": true,
      "include_colab_link": true
    },
    "kernelspec": {
      "name": "python3",
      "display_name": "Python 3"
    }
  },
  "cells": [
    {
      "cell_type": "markdown",
      "metadata": {
        "id": "view-in-github",
        "colab_type": "text"
      },
      "source": [
        "<a href=\"https://colab.research.google.com/github/LauArias98/numpy/blob/master/Numpy_Excercises1.ipynb\" target=\"_parent\"><img src=\"https://colab.research.google.com/assets/colab-badge.svg\" alt=\"Open In Colab\"/></a>"
      ]
    },
    {
      "cell_type": "code",
      "metadata": {
        "id": "Zp_uIJaWawnF",
        "colab_type": "code",
        "colab": {}
      },
      "source": [
        "import numpy as np\n",
        "from PIL import Image\n",
        "import matplotlib.pyplot as plt\n",
        "import matplotlib.image as mpimg\n",
        "import time\n"
      ],
      "execution_count": 79,
      "outputs": []
    },
    {
      "cell_type": "markdown",
      "metadata": {
        "id": "SFNqxbXPIbid",
        "colab_type": "text"
      },
      "source": [
        "# Numpy Excercises - Session 1\n",
        "\n",
        "\n",
        "\n",
        "\n",
        "\n",
        "\n",
        "\n",
        "\n",
        "\n",
        "\n",
        "\n"
      ]
    },
    {
      "cell_type": "markdown",
      "metadata": {
        "id": "wwGDpJvudrZE",
        "colab_type": "text"
      },
      "source": [
        "## Creating arrays.\n",
        "### Exercise 1 \n",
        "Create an int array from the list [2.4, 5, 7.8, 25]"
      ]
    },
    {
      "cell_type": "code",
      "metadata": {
        "id": "qPb19ojxdwsi",
        "colab_type": "code",
        "colab": {
          "base_uri": "https://localhost:8080/",
          "height": 34
        },
        "outputId": "af85b8e8-5e1b-4a07-9506-ecf68309cb73"
      },
      "source": [
        "list_1 = [2.4, 5, 7.8, 25]\n",
        "array_1 = np.array(list_1, int)\n",
        "print(array_1)"
      ],
      "execution_count": 4,
      "outputs": [
        {
          "output_type": "stream",
          "text": [
            "[ 2  5  7 25]\n"
          ],
          "name": "stdout"
        }
      ]
    },
    {
      "cell_type": "markdown",
      "metadata": {
        "id": "Gx8uMKzYeLkL",
        "colab_type": "text"
      },
      "source": [
        "### Exercise 2  \n",
        "Create an float array from the list [-2, 3, 4, 7, 1, 9]"
      ]
    },
    {
      "cell_type": "code",
      "metadata": {
        "id": "tdIUSUVEeYQw",
        "colab_type": "code",
        "colab": {
          "base_uri": "https://localhost:8080/",
          "height": 34
        },
        "outputId": "d2b84872-d936-4606-b5d3-49c67f6afab4"
      },
      "source": [
        "list_2 = [-2, 3, 4, 7, 1, 9]\n",
        "array_2 = np.array(list_2, float) \n",
        "print(array_2)"
      ],
      "execution_count": 6,
      "outputs": [
        {
          "output_type": "stream",
          "text": [
            "[-2.  3.  4.  7.  1.  9.]\n"
          ],
          "name": "stdout"
        }
      ]
    },
    {
      "cell_type": "markdown",
      "metadata": {
        "id": "72VA01pzeSy8",
        "colab_type": "text"
      },
      "source": [
        "### Exercise 3. \n",
        "Create a length-30 integer array filled with zeros.\n"
      ]
    },
    {
      "cell_type": "code",
      "metadata": {
        "id": "tFwom_nleptc",
        "colab_type": "code",
        "colab": {
          "base_uri": "https://localhost:8080/",
          "height": 50
        },
        "outputId": "ab3d3553-9684-4ec4-d8bf-bebd06beb21d"
      },
      "source": [
        "array_3 = np.zeros(30)\n",
        "print(array_3)"
      ],
      "execution_count": 8,
      "outputs": [
        {
          "output_type": "stream",
          "text": [
            "[0. 0. 0. 0. 0. 0. 0. 0. 0. 0. 0. 0. 0. 0. 0. 0. 0. 0. 0. 0. 0. 0. 0. 0.\n",
            " 0. 0. 0. 0. 0. 0.]\n"
          ],
          "name": "stdout"
        }
      ]
    },
    {
      "cell_type": "markdown",
      "metadata": {
        "id": "kV-QM3jJeSpM",
        "colab_type": "text"
      },
      "source": [
        "### Exercise 4. \n",
        "\n",
        "Create a 7x5 floating-point array filled with 1s.\n",
        "\n"
      ]
    },
    {
      "cell_type": "code",
      "metadata": {
        "id": "5efUe_3te-Hd",
        "colab_type": "code",
        "colab": {
          "base_uri": "https://localhost:8080/",
          "height": 134
        },
        "outputId": "2cb28093-24f4-406b-f47f-13ac0472d058"
      },
      "source": [
        "array_4 = np.ones((7, 5)) \n",
        "print(array_4)"
      ],
      "execution_count": 11,
      "outputs": [
        {
          "output_type": "stream",
          "text": [
            "[[1. 1. 1. 1. 1.]\n",
            " [1. 1. 1. 1. 1.]\n",
            " [1. 1. 1. 1. 1.]\n",
            " [1. 1. 1. 1. 1.]\n",
            " [1. 1. 1. 1. 1.]\n",
            " [1. 1. 1. 1. 1.]\n",
            " [1. 1. 1. 1. 1.]]\n"
          ],
          "name": "stdout"
        }
      ]
    },
    {
      "cell_type": "markdown",
      "metadata": {
        "id": "ql38n6g4eSgy",
        "colab_type": "text"
      },
      "source": [
        "### Exercise 5.\n",
        "\n",
        "Create a 16x16 array filled with 3.14"
      ]
    },
    {
      "cell_type": "code",
      "metadata": {
        "id": "w2ZMME1wfR4t",
        "colab_type": "code",
        "colab": {
          "base_uri": "https://localhost:8080/",
          "height": 554
        },
        "outputId": "9eed2d69-80be-4fee-ec10-bb1a0f1f36af"
      },
      "source": [
        "array_5 = np.full((16, 16), 3.14)\n",
        "print(array_5)"
      ],
      "execution_count": 12,
      "outputs": [
        {
          "output_type": "stream",
          "text": [
            "[[3.14 3.14 3.14 3.14 3.14 3.14 3.14 3.14 3.14 3.14 3.14 3.14 3.14 3.14\n",
            "  3.14 3.14]\n",
            " [3.14 3.14 3.14 3.14 3.14 3.14 3.14 3.14 3.14 3.14 3.14 3.14 3.14 3.14\n",
            "  3.14 3.14]\n",
            " [3.14 3.14 3.14 3.14 3.14 3.14 3.14 3.14 3.14 3.14 3.14 3.14 3.14 3.14\n",
            "  3.14 3.14]\n",
            " [3.14 3.14 3.14 3.14 3.14 3.14 3.14 3.14 3.14 3.14 3.14 3.14 3.14 3.14\n",
            "  3.14 3.14]\n",
            " [3.14 3.14 3.14 3.14 3.14 3.14 3.14 3.14 3.14 3.14 3.14 3.14 3.14 3.14\n",
            "  3.14 3.14]\n",
            " [3.14 3.14 3.14 3.14 3.14 3.14 3.14 3.14 3.14 3.14 3.14 3.14 3.14 3.14\n",
            "  3.14 3.14]\n",
            " [3.14 3.14 3.14 3.14 3.14 3.14 3.14 3.14 3.14 3.14 3.14 3.14 3.14 3.14\n",
            "  3.14 3.14]\n",
            " [3.14 3.14 3.14 3.14 3.14 3.14 3.14 3.14 3.14 3.14 3.14 3.14 3.14 3.14\n",
            "  3.14 3.14]\n",
            " [3.14 3.14 3.14 3.14 3.14 3.14 3.14 3.14 3.14 3.14 3.14 3.14 3.14 3.14\n",
            "  3.14 3.14]\n",
            " [3.14 3.14 3.14 3.14 3.14 3.14 3.14 3.14 3.14 3.14 3.14 3.14 3.14 3.14\n",
            "  3.14 3.14]\n",
            " [3.14 3.14 3.14 3.14 3.14 3.14 3.14 3.14 3.14 3.14 3.14 3.14 3.14 3.14\n",
            "  3.14 3.14]\n",
            " [3.14 3.14 3.14 3.14 3.14 3.14 3.14 3.14 3.14 3.14 3.14 3.14 3.14 3.14\n",
            "  3.14 3.14]\n",
            " [3.14 3.14 3.14 3.14 3.14 3.14 3.14 3.14 3.14 3.14 3.14 3.14 3.14 3.14\n",
            "  3.14 3.14]\n",
            " [3.14 3.14 3.14 3.14 3.14 3.14 3.14 3.14 3.14 3.14 3.14 3.14 3.14 3.14\n",
            "  3.14 3.14]\n",
            " [3.14 3.14 3.14 3.14 3.14 3.14 3.14 3.14 3.14 3.14 3.14 3.14 3.14 3.14\n",
            "  3.14 3.14]\n",
            " [3.14 3.14 3.14 3.14 3.14 3.14 3.14 3.14 3.14 3.14 3.14 3.14 3.14 3.14\n",
            "  3.14 3.14]]\n"
          ],
          "name": "stdout"
        }
      ]
    },
    {
      "cell_type": "markdown",
      "metadata": {
        "id": "m5Sy8Y_LeSX-",
        "colab_type": "text"
      },
      "source": [
        "### Exercise 6.\n",
        "\n",
        "Create an array filled with a linear sequence starting at 0, ending at 90, stepping by 3"
      ]
    },
    {
      "cell_type": "code",
      "metadata": {
        "id": "8hX5cEQyfbp1",
        "colab_type": "code",
        "colab": {
          "base_uri": "https://localhost:8080/",
          "height": 50
        },
        "outputId": "b6961445-413f-45ff-ca8c-788cf1cbd723"
      },
      "source": [
        "array_6 = np.arange(0, 91, 3)\n",
        "print(array_6)"
      ],
      "execution_count": 19,
      "outputs": [
        {
          "output_type": "stream",
          "text": [
            "[ 0  3  6  9 12 15 18 21 24 27 30 33 36 39 42 45 48 51 54 57 60 63 66 69\n",
            " 72 75 78 81 84 87 90]\n"
          ],
          "name": "stdout"
        }
      ]
    },
    {
      "cell_type": "markdown",
      "metadata": {
        "id": "oeLj8U3SeSMI",
        "colab_type": "text"
      },
      "source": [
        "### Exercise 7.\n",
        "\n",
        "Create an array of 10 values evenly spaced between 0 and 3"
      ]
    },
    {
      "cell_type": "code",
      "metadata": {
        "id": "tWF9w-VXgvhp",
        "colab_type": "code",
        "colab": {
          "base_uri": "https://localhost:8080/",
          "height": 50
        },
        "outputId": "1a4fde5d-768b-416f-ebb5-437ee889c8e4"
      },
      "source": [
        "array_7 = np.linspace(0, 3, 10)\n",
        "print(array_7)"
      ],
      "execution_count": 20,
      "outputs": [
        {
          "output_type": "stream",
          "text": [
            "[0.         0.33333333 0.66666667 1.         1.33333333 1.66666667\n",
            " 2.         2.33333333 2.66666667 3.        ]\n"
          ],
          "name": "stdout"
        }
      ]
    },
    {
      "cell_type": "markdown",
      "metadata": {
        "id": "vaYFRbKJglra",
        "colab_type": "text"
      },
      "source": [
        "### Exercise 8.\n",
        "\n",
        "Create a 5x5 array of random integers in the interval [0, 10)"
      ]
    },
    {
      "cell_type": "code",
      "metadata": {
        "id": "Db4MwoZOg-NY",
        "colab_type": "code",
        "colab": {
          "base_uri": "https://localhost:8080/",
          "height": 101
        },
        "outputId": "73778093-02a0-4664-a869-19850e0d34ed"
      },
      "source": [
        "array_8 = np.random.randint(0, 10, (5, 5))\n",
        "print(array_8)"
      ],
      "execution_count": 22,
      "outputs": [
        {
          "output_type": "stream",
          "text": [
            "[[5 7 1 8 2]\n",
            " [6 0 7 4 9]\n",
            " [2 4 0 5 9]\n",
            " [9 2 6 0 3]\n",
            " [8 0 9 7 0]]\n"
          ],
          "name": "stdout"
        }
      ]
    },
    {
      "cell_type": "markdown",
      "metadata": {
        "id": "xY2cCnLIglmi",
        "colab_type": "text"
      },
      "source": [
        "## Python lists vs Numpy arrays.\n",
        "\n"
      ]
    },
    {
      "cell_type": "markdown",
      "metadata": {
        "id": "mvk7Zw9IglgH",
        "colab_type": "text"
      },
      "source": [
        "### Exercise 9.  \n",
        "\n",
        "Calculating procesing time for python list creation \n",
        "\n",
        "\n",
        "\n",
        "```\n",
        "* Create a python list with numbers from 0 to 6 millions steping by 500.000 and stored in a list called `steps`.\n",
        "* Iterate over the `steps`.\n",
        "* For each iteration, create a python list of 6 million elements with numbers betweent 1 and 10 and calculate how many seconds it took to create that list.\n",
        "* Add the calculated time to a python list called `op_time_list`\n",
        "* Print first 10 elements from `op_time_list`\n",
        "```\n",
        "\n",
        " \n",
        "  "
      ]
    },
    {
      "cell_type": "code",
      "metadata": {
        "id": "US4KYoXyiGmt",
        "colab_type": "code",
        "colab": {
          "base_uri": "https://localhost:8080/",
          "height": 54
        },
        "outputId": "cf5f57d6-caed-484d-a29f-686bc477b940"
      },
      "source": [
        "# Write your code here.\n",
        "steps = [i*500000 for i in range(13)]\n",
        "op_time_list = []\n",
        "for i in steps:\n",
        "  start = time.time()\n",
        "  a = np.random.randint(1, 11, 6000000)\n",
        "  end = time.time()\n",
        "  final = end - start  \n",
        "  op_time_list.append(final)\n",
        "\n",
        "print(op_time_list[0:10])"
      ],
      "execution_count": 81,
      "outputs": [
        {
          "output_type": "stream",
          "text": [
            "[0.10902094841003418, 0.10201025009155273, 0.10895562171936035, 0.10724520683288574, 0.10317850112915039, 0.10585522651672363, 0.10382676124572754, 0.10224628448486328, 0.10265254974365234, 0.1017618179321289]\n"
          ],
          "name": "stdout"
        }
      ]
    },
    {
      "cell_type": "markdown",
      "metadata": {
        "id": "31D3p6atglbL",
        "colab_type": "text"
      },
      "source": [
        "### Exercise 10.\n",
        "\n",
        "Calculating procesing time for numpy array creation\n",
        "        \n",
        "\n",
        "```\n",
        "* Iterate over the `steps`.\n",
        "* For each iteration, create a numpy array of 6 million elements with numbers betweent 1 and 10 and calculate how many seconds it took to create that array.\n",
        "* Add the calculated time to a python list called `op_time_numpy`\n",
        "* Print first 10 elements from `op_time_numpy`\n",
        "```\n",
        "\n"
      ]
    },
    {
      "cell_type": "code",
      "metadata": {
        "colab_type": "code",
        "id": "KqzPghv0AS1i",
        "colab": {
          "base_uri": "https://localhost:8080/",
          "height": 54
        },
        "outputId": "e84f3246-0e1d-4c40-b596-4d7e3d191fcb"
      },
      "source": [
        "# Write your code here.\n",
        "op_time_numpy = []\n",
        "for i in steps:\n",
        "  start = time.time()\n",
        "  a = np.random.randint(1, 11, 6000000)\n",
        "  end = time.time()\n",
        "  final = end - start  \n",
        "  op_time_numpy.append(final)\n",
        "\n",
        "print(op_time_numpy[0:10])"
      ],
      "execution_count": 71,
      "outputs": [
        {
          "output_type": "stream",
          "text": [
            "[0.10636544227600098, 0.1009061336517334, 0.10067939758300781, 0.10047006607055664, 0.1005246639251709, 0.0993661880493164, 0.10082530975341797, 0.1027212142944336, 0.10290408134460449, 0.10020303726196289]\n"
          ],
          "name": "stdout"
        }
      ]
    },
    {
      "cell_type": "markdown",
      "metadata": {
        "id": "zYXhagBsglWj",
        "colab_type": "text"
      },
      "source": [
        "### Exercise 11.\n",
        "\n",
        "Compare `op_time_list` with `op_time_numpy` "
      ]
    },
    {
      "cell_type": "code",
      "metadata": {
        "id": "IGqYX0ukkJw7",
        "colab_type": "code",
        "colab": {
          "base_uri": "https://localhost:8080/",
          "height": 333
        },
        "outputId": "f8bba862-75d9-4633-c667-d10c997f2065"
      },
      "source": [
        "# No code required here.\n",
        "# Just run this cell :).\n",
        "\n",
        "fig = plt.figure(figsize=(15, 5))\n",
        "plt.plot(steps, op_time_list, '-b', label='Python lists')\n",
        "plt.plot(steps, op_time_numpy, '--g', label='Numpy arrays')\n",
        "\n",
        "plt.legend();\n"
      ],
      "execution_count": 82,
      "outputs": [
        {
          "output_type": "display_data",
          "data": {
            "image/png": "[encoded data removed]",
            "text/plain": [
              "<Figure size 1080x360 with 1 Axes>"
            ]
          },
          "metadata": {
            "tags": [],
            "needs_background": "light"
          }
        }
      ]
    },
    {
      "cell_type": "markdown",
      "metadata": {
        "id": "4KPuFWXyglRo",
        "colab_type": "text"
      },
      "source": [
        "## Challenge: Slicing Image layers.\n",
        "\n",
        "**Extract RGB layers from an image.**\n"
      ]
    },
    {
      "cell_type": "code",
      "metadata": {
        "id": "5cAVa_aSIXzm",
        "colab_type": "code",
        "colab": {}
      },
      "source": [
        "im = np.array(Image.open('/content/drive/My Drive/data_training/640px-Bucephala-albeola-010.jpg'))\n",
        "im.shape"
      ],
      "execution_count": null,
      "outputs": []
    },
    {
      "cell_type": "code",
      "metadata": {
        "id": "mcrnFtmpZkry",
        "colab_type": "code",
        "colab": {}
      },
      "source": [
        "def plot_image_channel(shape, channel, img_channel):\n",
        "  temp = np.zeros(shape, dtype='uint8')\n",
        "  temp[:, :, channel] = img_channel\n",
        "  plt.imshow(temp);"
      ],
      "execution_count": null,
      "outputs": []
    },
    {
      "cell_type": "code",
      "metadata": {
        "id": "hy8eiQ2La7tz",
        "colab_type": "code",
        "colab": {}
      },
      "source": [
        "red_channel = []\n",
        "plot_image_channel(im.shape, 0, red_channel)"
      ],
      "execution_count": null,
      "outputs": []
    },
    {
      "cell_type": "code",
      "metadata": {
        "id": "C3sQc8xTZu2W",
        "colab_type": "code",
        "colab": {}
      },
      "source": [
        "green_channel = []\n",
        "plot_image_channel(im.shape, 1, green_channel)"
      ],
      "execution_count": null,
      "outputs": []
    },
    {
      "cell_type": "code",
      "metadata": {
        "id": "cUw1ICjqcG0n",
        "colab_type": "code",
        "colab": {}
      },
      "source": [
        "blue_channel = []\n",
        "plot_image_channel(im.shape, 2, blue_channel)"
      ],
      "execution_count": null,
      "outputs": []
    }
  ]
}